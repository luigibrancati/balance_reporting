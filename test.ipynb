{
 "cells": [
  {
   "cell_type": "code",
   "execution_count": 1,
   "id": "678311c4",
   "metadata": {},
   "outputs": [],
   "source": [
    "import pandas as pd\n",
    "import numpy as np"
   ]
  },
  {
   "cell_type": "code",
   "execution_count": 2,
   "id": "f40af159",
   "metadata": {},
   "outputs": [],
   "source": [
    "df = pd.read_csv(\"./Data/DataCristina/Elenco_Movimenti(1).csv\", delimiter=';')"
   ]
  },
  {
   "cell_type": "code",
   "execution_count": 3,
   "id": "f8c17290",
   "metadata": {},
   "outputs": [
    {
     "name": "stdout",
     "output_type": "stream",
     "text": [
      "<class 'pandas.core.frame.DataFrame'>\n",
      "RangeIndex: 265 entries, 0 to 264\n",
      "Data columns (total 6 columns):\n",
      " #   Column              Non-Null Count  Dtype  \n",
      "---  ------              --------------  -----  \n",
      " 0   Data Registrazione  265 non-null    object \n",
      " 1   Ora operazione      265 non-null    object \n",
      " 2   Data valuta         265 non-null    object \n",
      " 3   Descrizione         265 non-null    object \n",
      " 4   Importo             265 non-null    object \n",
      " 5   Unnamed: 5          0 non-null      float64\n",
      "dtypes: float64(1), object(5)\n",
      "memory usage: 12.5+ KB\n"
     ]
    }
   ],
   "source": [
    "df.info()"
   ]
  },
  {
   "cell_type": "code",
   "execution_count": 4,
   "id": "c001a222",
   "metadata": {},
   "outputs": [
    {
     "data": {
      "text/html": [
       "<div>\n",
       "<style scoped>\n",
       "    .dataframe tbody tr th:only-of-type {\n",
       "        vertical-align: middle;\n",
       "    }\n",
       "\n",
       "    .dataframe tbody tr th {\n",
       "        vertical-align: top;\n",
       "    }\n",
       "\n",
       "    .dataframe thead th {\n",
       "        text-align: right;\n",
       "    }\n",
       "</style>\n",
       "<table border=\"1\" class=\"dataframe\">\n",
       "  <thead>\n",
       "    <tr style=\"text-align: right;\">\n",
       "      <th></th>\n",
       "      <th>Data Registrazione</th>\n",
       "      <th>Ora operazione</th>\n",
       "      <th>Data valuta</th>\n",
       "      <th>Descrizione</th>\n",
       "      <th>Importo</th>\n",
       "      <th>Unnamed: 5</th>\n",
       "    </tr>\n",
       "  </thead>\n",
       "  <tbody>\n",
       "    <tr>\n",
       "      <th>0</th>\n",
       "      <td>05/10/2021</td>\n",
       "      <td>00:00</td>\n",
       "      <td>06/10/2021</td>\n",
       "      <td>DISPOSIZIONE DI BONIFICO BONIFICO SEPA A  MARI...</td>\n",
       "      <td>-642,33</td>\n",
       "      <td>NaN</td>\n",
       "    </tr>\n",
       "    <tr>\n",
       "      <th>1</th>\n",
       "      <td>07/10/2021</td>\n",
       "      <td>00:00</td>\n",
       "      <td>05/10/2021</td>\n",
       "      <td>PAGAMENTO POS PAGAMENTO E-Commerce del 05/10/2...</td>\n",
       "      <td>-59,48</td>\n",
       "      <td>NaN</td>\n",
       "    </tr>\n",
       "    <tr>\n",
       "      <th>2</th>\n",
       "      <td>05/10/2021</td>\n",
       "      <td>00:00</td>\n",
       "      <td>05/10/2021</td>\n",
       "      <td>ADDEBITO SEPA DD PER FATTURA A VOSTRO CARICO I...</td>\n",
       "      <td>-5,00</td>\n",
       "      <td>NaN</td>\n",
       "    </tr>\n",
       "    <tr>\n",
       "      <th>3</th>\n",
       "      <td>06/10/2021</td>\n",
       "      <td>00:00</td>\n",
       "      <td>04/10/2021</td>\n",
       "      <td>PAGAMENTO POS PAGAMENTO Contactless del 04/10/...</td>\n",
       "      <td>-28,57</td>\n",
       "      <td>NaN</td>\n",
       "    </tr>\n",
       "    <tr>\n",
       "      <th>4</th>\n",
       "      <td>04/10/2021</td>\n",
       "      <td>00:00</td>\n",
       "      <td>04/10/2021</td>\n",
       "      <td>BONIFICO A VOSTRO FAVORE BONIFICO SEPA DA  SAT...</td>\n",
       "      <td>11,47</td>\n",
       "      <td>NaN</td>\n",
       "    </tr>\n",
       "    <tr>\n",
       "      <th>...</th>\n",
       "      <td>...</td>\n",
       "      <td>...</td>\n",
       "      <td>...</td>\n",
       "      <td>...</td>\n",
       "      <td>...</td>\n",
       "      <td>...</td>\n",
       "    </tr>\n",
       "    <tr>\n",
       "      <th>260</th>\n",
       "      <td>09/12/2020</td>\n",
       "      <td>00:00</td>\n",
       "      <td>07/12/2020</td>\n",
       "      <td>PAGAMENTO POS PAGAMENTO Contactless del 07/12/...</td>\n",
       "      <td>-60,33</td>\n",
       "      <td>NaN</td>\n",
       "    </tr>\n",
       "    <tr>\n",
       "      <th>261</th>\n",
       "      <td>02/12/2020</td>\n",
       "      <td>00:00</td>\n",
       "      <td>03/12/2020</td>\n",
       "      <td>DISPOSIZIONE DI BONIFICO BONIFICO SEPA A  Mari...</td>\n",
       "      <td>-742,33</td>\n",
       "      <td>NaN</td>\n",
       "    </tr>\n",
       "    <tr>\n",
       "      <th>262</th>\n",
       "      <td>01/12/2020</td>\n",
       "      <td>00:00</td>\n",
       "      <td>01/12/2020</td>\n",
       "      <td>ADDEBITO SEPA DD PER FATTURA A VOSTRO CARICO I...</td>\n",
       "      <td>-65,97</td>\n",
       "      <td>NaN</td>\n",
       "    </tr>\n",
       "    <tr>\n",
       "      <th>263</th>\n",
       "      <td>02/12/2020</td>\n",
       "      <td>00:00</td>\n",
       "      <td>30/11/2020</td>\n",
       "      <td>PAGAMENTO POS PAGAMENTO E-Commerce del 30/11/2...</td>\n",
       "      <td>-58,00</td>\n",
       "      <td>NaN</td>\n",
       "    </tr>\n",
       "    <tr>\n",
       "      <th>264</th>\n",
       "      <td>01/12/2020</td>\n",
       "      <td>00:00</td>\n",
       "      <td>28/11/2020</td>\n",
       "      <td>PAGAMENTO POS PAGAMENTO Contactless del 28/11/...</td>\n",
       "      <td>-18,63</td>\n",
       "      <td>NaN</td>\n",
       "    </tr>\n",
       "  </tbody>\n",
       "</table>\n",
       "<p>265 rows × 6 columns</p>\n",
       "</div>"
      ],
      "text/plain": [
       "    Data Registrazione Ora operazione Data valuta  \\\n",
       "0           05/10/2021          00:00  06/10/2021   \n",
       "1           07/10/2021          00:00  05/10/2021   \n",
       "2           05/10/2021          00:00  05/10/2021   \n",
       "3           06/10/2021          00:00  04/10/2021   \n",
       "4           04/10/2021          00:00  04/10/2021   \n",
       "..                 ...            ...         ...   \n",
       "260         09/12/2020          00:00  07/12/2020   \n",
       "261         02/12/2020          00:00  03/12/2020   \n",
       "262         01/12/2020          00:00  01/12/2020   \n",
       "263         02/12/2020          00:00  30/11/2020   \n",
       "264         01/12/2020          00:00  28/11/2020   \n",
       "\n",
       "                                           Descrizione  Importo  Unnamed: 5  \n",
       "0    DISPOSIZIONE DI BONIFICO BONIFICO SEPA A  MARI...  -642,33         NaN  \n",
       "1    PAGAMENTO POS PAGAMENTO E-Commerce del 05/10/2...   -59,48         NaN  \n",
       "2    ADDEBITO SEPA DD PER FATTURA A VOSTRO CARICO I...    -5,00         NaN  \n",
       "3    PAGAMENTO POS PAGAMENTO Contactless del 04/10/...   -28,57         NaN  \n",
       "4    BONIFICO A VOSTRO FAVORE BONIFICO SEPA DA  SAT...    11,47         NaN  \n",
       "..                                                 ...      ...         ...  \n",
       "260  PAGAMENTO POS PAGAMENTO Contactless del 07/12/...   -60,33         NaN  \n",
       "261  DISPOSIZIONE DI BONIFICO BONIFICO SEPA A  Mari...  -742,33         NaN  \n",
       "262  ADDEBITO SEPA DD PER FATTURA A VOSTRO CARICO I...   -65,97         NaN  \n",
       "263  PAGAMENTO POS PAGAMENTO E-Commerce del 30/11/2...   -58,00         NaN  \n",
       "264  PAGAMENTO POS PAGAMENTO Contactless del 28/11/...   -18,63         NaN  \n",
       "\n",
       "[265 rows x 6 columns]"
      ]
     },
     "execution_count": 4,
     "metadata": {},
     "output_type": "execute_result"
    }
   ],
   "source": [
    "df"
   ]
  },
  {
   "cell_type": "code",
   "execution_count": 9,
   "id": "c0d83f6a",
   "metadata": {},
   "outputs": [
    {
     "data": {
      "text/plain": [
       "0     -642.33\n",
       "1      -59.48\n",
       "2       -5.00\n",
       "3      -28.57\n",
       "4       11.47\n",
       "        ...  \n",
       "260    -60.33\n",
       "261   -742.33\n",
       "262    -65.97\n",
       "263    -58.00\n",
       "264    -18.63\n",
       "Name: Importo, Length: 265, dtype: float64"
      ]
     },
     "execution_count": 9,
     "metadata": {},
     "output_type": "execute_result"
    }
   ],
   "source": [
    "df['Importo'].str.replace('.', ',', regex=True).apply(lambda x: float((x[:-3]+x[-3:].replace(',','.')).replace(',','')))"
   ]
  },
  {
   "cell_type": "code",
   "execution_count": null,
   "id": "98e4c451",
   "metadata": {},
   "outputs": [],
   "source": []
  }
 ],
 "metadata": {
  "kernelspec": {
   "display_name": "balance",
   "language": "python",
   "name": "balance"
  },
  "language_info": {
   "codemirror_mode": {
    "name": "ipython",
    "version": 3
   },
   "file_extension": ".py",
   "mimetype": "text/x-python",
   "name": "python",
   "nbconvert_exporter": "python",
   "pygments_lexer": "ipython3",
   "version": "3.9.0"
  }
 },
 "nbformat": 4,
 "nbformat_minor": 5
}
