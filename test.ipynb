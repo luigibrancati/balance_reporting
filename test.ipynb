{
 "cells": [
  {
   "cell_type": "code",
   "execution_count": 21,
   "id": "158ff5b0-e5b6-45f8-a0af-3396f22a2e2d",
   "metadata": {
    "tags": []
   },
   "outputs": [],
   "source": [
    "import polars as pl\n",
    "import plotly.express as px\n",
    "import ipywidgets as widgets\n",
    "from plotly.subplots import make_subplots\n",
    "import plotly.graph_objects as go"
   ]
  },
  {
   "cell_type": "code",
   "execution_count": 22,
   "id": "b20753c1-6cee-4198-a6c9-5307fc4fe11f",
   "metadata": {
    "tags": []
   },
   "outputs": [],
   "source": [
    "credit_discrete_map = {False: 'blue', True:'red'}"
   ]
  },
  {
   "cell_type": "code",
   "execution_count": 23,
   "id": "88e3b505",
   "metadata": {
    "tags": []
   },
   "outputs": [],
   "source": [
    "df = pl.read_csv('Data/data.csv', has_header=True, skip_rows=5, separator=';', try_parse_dates=True)\n",
    "df = (\n",
    "    df.rename({'Data valuta':'Date'})\n",
    "    .with_columns([\n",
    "        pl.coalesce([pl.col('Entrate'), pl.col('Uscite')]).alias('Amount'),\n",
    "        pl.col('Entrate').is_not_null().alias('Credit'),\n",
    "        (pl.col('Causale') == 'EMOLUMENTI').alias('Salary'),\n",
    "        pl.col('Date').dt.year().alias('Year'),\n",
    "        pl.col('Date').dt.month().alias('Month')\n",
    "    ])\n",
    "    .select(['Date', 'Year', 'Month', 'Amount', 'Credit', 'Salary'])\n",
    ")\n",
    "df = df.sort('Date')"
   ]
  },
  {
   "cell_type": "code",
   "execution_count": 25,
   "id": "d7592d13-d09f-4ca7-ba60-ab769f262713",
   "metadata": {
    "tags": []
   },
   "outputs": [],
   "source": [
    "date_start = widgets.DatePicker(value=df['Date'].min(), description='Date start')\n",
    "date_end = widgets.DatePicker(value=df['Date'].max(), description='Date end')"
   ]
  },
  {
   "cell_type": "code",
   "execution_count": 26,
   "id": "5641c084-fa12-47c8-8d3b-4d105ed8c4d1",
   "metadata": {
    "scrolled": true,
    "tags": []
   },
   "outputs": [
    {
     "data": {
      "application/vnd.jupyter.widget-view+json": {
       "model_id": "fd2636f572694ac4aad0d6914bcc4128",
       "version_major": 2,
       "version_minor": 0
      },
      "text/plain": [
       "VBox(children=(DatePicker(value=datetime.date(2023, 2, 24), description='Date start', step=1), DatePicker(valu…"
      ]
     },
     "metadata": {},
     "output_type": "display_data"
    }
   ],
   "source": [
    "display(widgets.VBox([date_start, date_end]))"
   ]
  },
  {
   "cell_type": "code",
   "execution_count": null,
   "id": "c92c5662",
   "metadata": {},
   "outputs": [],
   "source": [
    "def indicators(start, end):\n",
    "    temp = df.filter((pl.col('Date')>=start) & (pl.col('Date')<=end))\n",
    "    indicators = make_subplots(\n",
    "        2, 2,\n",
    "        specs=[[{\"type\": \"domain\"}, {\"type\": \"domain\"}], [{\"type\": \"domain\"}, {\"type\": \"domain\"}]]\n",
    "    )\n",
    "    indicator_font_size = 50\n",
    "    indicator_title_size = 27\n",
    "    indicators.add_trace(\n",
    "        go.Indicator(\n",
    "            mode='number+delta',\n",
    "            value=temp.filter(pl.col('Credit'))['Amount'].sum() - temp.filter(~pl.col('Credit'))['Amount'].sum(),\n",
    "            delta={'reference':0.1, 'relative': True, 'valueformat':',.0%'},\n",
    "            number={'prefix':'€', 'valueformat':',.2f', 'font':{'size':indicator_font_size}},\n",
    "            title={\"text\": 'Netto transazioni', 'font': {'size': indicator_title_size}}\n",
    "        ),\n",
    "        row=1,\n",
    "        col=1\n",
    "    )\n",
    "    indicators.add_trace(\n",
    "        go.Indicator(\n",
    "            mode='number',\n",
    "            value=temp['Amount'].len(),\n",
    "            number={'valueformat':',.0f', 'font':{'size':indicator_font_size}},\n",
    "            title={\"text\": '# transazioni', 'font': {'size': indicator_title_size}}\n",
    "        ),\n",
    "        row=1,\n",
    "        col=2\n",
    "    )\n",
    "    indicators.add_trace(\n",
    "        go.Indicator(\n",
    "            mode='number',\n",
    "            value=temp.filter(pl.col('Credit'))['Amount'].max(),\n",
    "            number={'prefix':'€', 'valueformat':',.2f', 'font':{'size':indicator_font_size}},\n",
    "            title={\"text\": 'Max in entrata', 'font': {'size': indicator_title_size}}\n",
    "        ),\n",
    "        row=2,\n",
    "        col=1\n",
    "    )\n",
    "    indicators.add_trace(\n",
    "        go.Indicator(\n",
    "            mode='number',\n",
    "            value=temp.filter(~pl.col('Credit'))['Amount'].max(),\n",
    "            number={'prefix':'€', 'valueformat':',.2f', 'font':{'size':indicator_font_size}},\n",
    "            title={\"text\": 'Max in uscita', 'font': {'size': indicator_title_size}}\n",
    "        ),\n",
    "        row=2,\n",
    "        col=2\n",
    "    )\n",
    "    indicators.update_layout(\n",
    "        uniformtext_mode='hide',\n",
    "        uniformtext_minsize=11,\n",
    "        width=1000\n",
    "    )\n",
    "    indicators.show()\n",
    "indicators = widgets.interactive_output(indicators, {'start': date_start, 'end': date_end})\n",
    "display(indicators)"
   ]
  },
  {
   "cell_type": "code",
   "execution_count": null,
   "id": "dd7f3c76-5c85-49cc-8433-0def56d6ff7d",
   "metadata": {
    "tags": []
   },
   "outputs": [],
   "source": [
    "def piecharts(start, end):\n",
    "    temp = (\n",
    "        df.filter((pl.col('Date')>=start) & (pl.col('Date')<=end))\n",
    "        .groupby('Credit').agg(\n",
    "            pl.col('Amount').sum().alias('Amount'),\n",
    "            pl.col('Date').count().alias('Count')\n",
    "        ).select('Credit', pl.col('Amount')/pl.col('Amount').sum(), pl.col('Count')/pl.col('Count').sum())\n",
    "    )\n",
    "    fig = make_subplots(rows=1, cols=2, specs=[[{\"type\": \"pie\"}, {\"type\": \"pie\"}]], subplot_titles=(\"Amount\", \"Count\"))\n",
    "    fig.add_trace(\n",
    "        go.Pie(\n",
    "            labels = temp['Credit'].to_list(),\n",
    "            values = temp['Amount'].to_list(),\n",
    "            hole = 0.4\n",
    "        ),\n",
    "        row=1,\n",
    "        col=1\n",
    "    )\n",
    "    fig.add_trace(\n",
    "        go.Pie(\n",
    "            labels = temp['Credit'].to_list(),\n",
    "            values = temp['Count'].to_list(),\n",
    "            hole = 0.4\n",
    "        ),\n",
    "        row=1,\n",
    "        col=2\n",
    "    )\n",
    "    fig.update_layout(height=500, width=1000, legend={'title':'Credit'})\n",
    "    fig.show()\n",
    "piecharts = widgets.interactive_output(piecharts, {'start': date_start, 'end': date_end})\n",
    "display(piecharts)"
   ]
  },
  {
   "cell_type": "code",
   "execution_count": null,
   "id": "03687264-e55b-4383-855f-9fd7bdc948e4",
   "metadata": {
    "tags": []
   },
   "outputs": [],
   "source": [
    "def histplot(start, end):\n",
    "    fig = px.histogram(\n",
    "        data_frame = df.filter((pl.col('Date')>=start) & (pl.col('Date')<=end)).to_pandas(),\n",
    "        x = 'Amount',\n",
    "        histnorm = 'percent',\n",
    "        title = 'Amount distribution',\n",
    "        facet_row = 'Credit',\n",
    "        color = 'Credit',\n",
    "        color_discrete_map = credit_discrete_map,\n",
    "        nbins = 50,\n",
    "        height = 800\n",
    "    )\n",
    "    fig.show()\n",
    "histplot = widgets.interactive_output(histplot, {'start': date_start, 'end': date_end})\n",
    "display(histplot)"
   ]
  },
  {
   "cell_type": "code",
   "execution_count": null,
   "id": "7ec0fec7-f59b-410b-9d7f-f468b248208c",
   "metadata": {
    "tags": []
   },
   "outputs": [],
   "source": [
    "def scatter(start, end):\n",
    "    fig = px.scatter(\n",
    "        data_frame = df.filter((pl.col('Date')>=start) & (pl.col('Date')<=end)).to_pandas(),\n",
    "        x = 'Date',\n",
    "        y = 'Amount',\n",
    "        color = 'Credit',\n",
    "        color_discrete_map=credit_discrete_map\n",
    "    )\n",
    "    fig.show()\n",
    "scatter = widgets.interactive_output(scatter, {'start': date_start, 'end': date_end})\n",
    "display(scatter)"
   ]
  }
 ],
 "metadata": {
  "kernelspec": {
   "display_name": "balance_reporting",
   "language": "python",
   "name": "balance_reporting"
  },
  "language_info": {
   "codemirror_mode": {
    "name": "ipython",
    "version": 3
   },
   "file_extension": ".py",
   "mimetype": "text/x-python",
   "name": "python",
   "nbconvert_exporter": "python",
   "pygments_lexer": "ipython3",
   "version": "3.10.0"
  }
 },
 "nbformat": 4,
 "nbformat_minor": 5
}
