{
 "cells": [
  {
   "cell_type": "code",
   "execution_count": 13,
   "metadata": {},
   "outputs": [],
   "source": [
    "import polars as pl\n",
    "from enum import Enum"
   ]
  },
  {
   "cell_type": "code",
   "execution_count": 14,
   "metadata": {},
   "outputs": [],
   "source": [
    "class Fields(Enum):\n",
    "    Amount = \"Entrate\""
   ]
  },
  {
   "cell_type": "code",
   "execution_count": 25,
   "metadata": {},
   "outputs": [],
   "source": [
    "df = pl.read_excel(\"/home/luigi/Downloads/estratti_conto/flowe_2022.xlsx\")"
   ]
  },
  {
   "cell_type": "code",
   "execution_count": 26,
   "metadata": {},
   "outputs": [
    {
     "data": {
      "text/html": [
       "<div><style>\n",
       ".dataframe > thead > tr > th,\n",
       ".dataframe > tbody > tr > td {\n",
       "  text-align: right;\n",
       "}\n",
       "</style>\n",
       "<small>shape: (7, 5)</small><table border=\"1\" class=\"dataframe\"><thead><tr><th>describe</th><th>DATA VALUTA</th><th>DATA OP</th><th>ENTRATE</th><th>USCITE</th></tr><tr><td>str</td><td>str</td><td>str</td><td>f64</td><td>f64</td></tr></thead><tbody><tr><td>&quot;count&quot;</td><td>&quot;96&quot;</td><td>&quot;96&quot;</td><td>96.0</td><td>96.0</td></tr><tr><td>&quot;null_count&quot;</td><td>&quot;0&quot;</td><td>&quot;0&quot;</td><td>0.0</td><td>0.0</td></tr><tr><td>&quot;mean&quot;</td><td>null</td><td>null</td><td>10.963958</td><td>23.146667</td></tr><tr><td>&quot;std&quot;</td><td>null</td><td>null</td><td>14.342713</td><td>58.641089</td></tr><tr><td>&quot;min&quot;</td><td>&quot;01/02/2022&quot;</td><td>&quot;01/02/2022&quot;</td><td>0.0</td><td>0.0</td></tr><tr><td>&quot;max&quot;</td><td>&quot;31/03/2022&quot;</td><td>&quot;30/06/2022&quot;</td><td>78.0</td><td>312.0</td></tr><tr><td>&quot;median&quot;</td><td>null</td><td>null</td><td>4.75</td><td>0.0</td></tr></tbody></table></div>"
      ],
      "text/plain": [
       "shape: (7, 5)\n",
       "┌────────────┬─────────────┬────────────┬───────────┬───────────┐\n",
       "│ describe   ┆ DATA VALUTA ┆ DATA OP    ┆ ENTRATE   ┆ USCITE    │\n",
       "│ ---        ┆ ---         ┆ ---        ┆ ---       ┆ ---       │\n",
       "│ str        ┆ str         ┆ str        ┆ f64       ┆ f64       │\n",
       "╞════════════╪═════════════╪════════════╪═══════════╪═══════════╡\n",
       "│ count      ┆ 96          ┆ 96         ┆ 96.0      ┆ 96.0      │\n",
       "│ null_count ┆ 0           ┆ 0          ┆ 0.0       ┆ 0.0       │\n",
       "│ mean       ┆ null        ┆ null       ┆ 10.963958 ┆ 23.146667 │\n",
       "│ std        ┆ null        ┆ null       ┆ 14.342713 ┆ 58.641089 │\n",
       "│ min        ┆ 01/02/2022  ┆ 01/02/2022 ┆ 0.0       ┆ 0.0       │\n",
       "│ max        ┆ 31/03/2022  ┆ 30/06/2022 ┆ 78.0      ┆ 312.0     │\n",
       "│ median     ┆ null        ┆ null       ┆ 4.75      ┆ 0.0       │\n",
       "└────────────┴─────────────┴────────────┴───────────┴───────────┘"
      ]
     },
     "execution_count": 26,
     "metadata": {},
     "output_type": "execute_result"
    }
   ],
   "source": [
    "df.describe()"
   ]
  },
  {
   "cell_type": "code",
   "execution_count": 17,
   "metadata": {},
   "outputs": [
    {
     "data": {
      "text/html": [
       "<div><style>\n",
       ".dataframe > thead > tr > th,\n",
       ".dataframe > tbody > tr > td {\n",
       "  text-align: right;\n",
       "}\n",
       "</style>\n",
       "<small>shape: (542, 4)</small><table border=\"1\" class=\"dataframe\"><thead><tr><th>Operazione</th><th>Valuta</th><th>Uscite</th><th>Entrate</th></tr><tr><td>str</td><td>str</td><td>f64</td><td>f64</td></tr></thead><tbody><tr><td>&quot;31/12/2022&quot;</td><td>&quot;31/12/2022&quot;</td><td>0.56</td><td>0.0</td></tr><tr><td>&quot;31/12/2022&quot;</td><td>&quot;31/12/2022&quot;</td><td>null</td><td>2.17</td></tr><tr><td>&quot;30/12/2022&quot;</td><td>&quot;28/12/2022&quot;</td><td>50.0</td><td>0.0</td></tr><tr><td>&quot;29/12/2022&quot;</td><td>&quot;27/12/2022&quot;</td><td>19.5</td><td>0.0</td></tr><tr><td>&quot;28/12/2022&quot;</td><td>&quot;26/12/2022&quot;</td><td>30.0</td><td>0.0</td></tr><tr><td>&quot;28/12/2022&quot;</td><td>&quot;21/12/2022&quot;</td><td>20.0</td><td>0.0</td></tr><tr><td>&quot;28/12/2022&quot;</td><td>&quot;20/12/2022&quot;</td><td>1.7</td><td>0.0</td></tr><tr><td>&quot;27/12/2022&quot;</td><td>&quot;27/12/2022&quot;</td><td>24.99</td><td>0.0</td></tr><tr><td>&quot;27/12/2022&quot;</td><td>&quot;20/12/2022&quot;</td><td>12.15</td><td>0.0</td></tr><tr><td>&quot;27/12/2022&quot;</td><td>&quot;20/12/2022&quot;</td><td>10.0</td><td>0.0</td></tr><tr><td>&quot;27/12/2022&quot;</td><td>&quot;20/12/2022&quot;</td><td>5.9</td><td>0.0</td></tr><tr><td>&quot;23/12/2022&quot;</td><td>&quot;18/12/2022&quot;</td><td>43.97</td><td>0.0</td></tr><tr><td>&hellip;</td><td>&hellip;</td><td>&hellip;</td><td>&hellip;</td></tr><tr><td>&quot;18/01/2022&quot;</td><td>&quot;15/01/2022&quot;</td><td>27.98</td><td>0.0</td></tr><tr><td>&quot;13/01/2022&quot;</td><td>&quot;13/01/2022&quot;</td><td>null</td><td>109.58</td></tr><tr><td>&quot;13/01/2022&quot;</td><td>&quot;13/01/2022&quot;</td><td>50.0</td><td>0.0</td></tr><tr><td>&quot;11/01/2022&quot;</td><td>&quot;11/01/2022&quot;</td><td>null</td><td>26.8</td></tr><tr><td>&quot;11/01/2022&quot;</td><td>&quot;08/01/2022&quot;</td><td>51.74</td><td>0.0</td></tr><tr><td>&quot;07/01/2022&quot;</td><td>&quot;07/01/2022&quot;</td><td>196.69</td><td>0.0</td></tr><tr><td>&quot;04/01/2022&quot;</td><td>&quot;04/01/2022&quot;</td><td>1.0</td><td>0.0</td></tr><tr><td>&quot;04/01/2022&quot;</td><td>&quot;04/01/2022&quot;</td><td>50.0</td><td>0.0</td></tr><tr><td>&quot;04/01/2022&quot;</td><td>&quot;04/01/2022&quot;</td><td>null</td><td>0.2</td></tr><tr><td>&quot;04/01/2022&quot;</td><td>&quot;04/01/2022&quot;</td><td>null</td><td>0.03</td></tr><tr><td>&quot;04/01/2022&quot;</td><td>&quot;04/01/2022&quot;</td><td>100.0</td><td>0.0</td></tr><tr><td>&quot;04/01/2022&quot;</td><td>&quot;04/01/2022&quot;</td><td>50.0</td><td>0.0</td></tr></tbody></table></div>"
      ],
      "text/plain": [
       "shape: (542, 4)\n",
       "┌────────────┬────────────┬────────┬─────────┐\n",
       "│ Operazione ┆ Valuta     ┆ Uscite ┆ Entrate │\n",
       "│ ---        ┆ ---        ┆ ---    ┆ ---     │\n",
       "│ str        ┆ str        ┆ f64    ┆ f64     │\n",
       "╞════════════╪════════════╪════════╪═════════╡\n",
       "│ 31/12/2022 ┆ 31/12/2022 ┆ 0.56   ┆ 0.0     │\n",
       "│ 31/12/2022 ┆ 31/12/2022 ┆ null   ┆ 2.17    │\n",
       "│ 30/12/2022 ┆ 28/12/2022 ┆ 50.0   ┆ 0.0     │\n",
       "│ 29/12/2022 ┆ 27/12/2022 ┆ 19.5   ┆ 0.0     │\n",
       "│ …          ┆ …          ┆ …      ┆ …       │\n",
       "│ 04/01/2022 ┆ 04/01/2022 ┆ null   ┆ 0.2     │\n",
       "│ 04/01/2022 ┆ 04/01/2022 ┆ null   ┆ 0.03    │\n",
       "│ 04/01/2022 ┆ 04/01/2022 ┆ 100.0  ┆ 0.0     │\n",
       "│ 04/01/2022 ┆ 04/01/2022 ┆ 50.0   ┆ 0.0     │\n",
       "└────────────┴────────────┴────────┴─────────┘"
      ]
     },
     "execution_count": 17,
     "metadata": {},
     "output_type": "execute_result"
    }
   ],
   "source": [
    "df.with_columns([pl.col(Fields.Amount.value).fill_null(0)])"
   ]
  },
  {
   "cell_type": "code",
   "execution_count": 29,
   "metadata": {},
   "outputs": [
    {
     "data": {
      "text/html": [
       "<div><style>\n",
       ".dataframe > thead > tr > th,\n",
       ".dataframe > tbody > tr > td {\n",
       "  text-align: right;\n",
       "}\n",
       "</style>\n",
       "<small>shape: (96, 4)</small><table border=\"1\" class=\"dataframe\"><thead><tr><th>DATA VALUTA</th><th>DATA OP</th><th>ENTRATE</th><th>USCITE</th></tr><tr><td>str</td><td>date</td><td>f64</td><td>f64</td></tr></thead><tbody><tr><td>&quot;27/12/2022&quot;</td><td>2022-12-22</td><td>17.0</td><td>0.0</td></tr><tr><td>&quot;21/12/2022&quot;</td><td>2022-12-21</td><td>0.0</td><td>14.0</td></tr><tr><td>&quot;20/12/2022&quot;</td><td>2022-12-20</td><td>0.0</td><td>247.82</td></tr><tr><td>&quot;23/12/2022&quot;</td><td>2022-12-20</td><td>14.0</td><td>0.0</td></tr><tr><td>&quot;20/12/2022&quot;</td><td>2022-12-18</td><td>11.15</td><td>0.0</td></tr><tr><td>&quot;16/12/2022&quot;</td><td>2022-12-16</td><td>0.0</td><td>19.29</td></tr><tr><td>&quot;13/12/2022&quot;</td><td>2022-12-13</td><td>0.0</td><td>236.0</td></tr><tr><td>&quot;13/12/2022&quot;</td><td>2022-12-13</td><td>0.0</td><td>312.0</td></tr><tr><td>&quot;23/11/2022&quot;</td><td>2022-11-21</td><td>40.0</td><td>0.0</td></tr><tr><td>&quot;13/10/2022&quot;</td><td>2022-10-13</td><td>6.5</td><td>0.0</td></tr><tr><td>&quot;13/10/2022&quot;</td><td>2022-10-13</td><td>8.0</td><td>0.0</td></tr><tr><td>&quot;27/09/2022&quot;</td><td>2022-09-27</td><td>0.0</td><td>145.42</td></tr><tr><td>&hellip;</td><td>&hellip;</td><td>&hellip;</td><td>&hellip;</td></tr><tr><td>&quot;09/02/2022&quot;</td><td>2022-02-05</td><td>49.0</td><td>0.0</td></tr><tr><td>&quot;09/02/2022&quot;</td><td>2022-02-04</td><td>3.4</td><td>0.0</td></tr><tr><td>&quot;02/02/2022&quot;</td><td>2022-02-02</td><td>0.0</td><td>50.0</td></tr><tr><td>&quot;02/02/2022&quot;</td><td>2022-02-02</td><td>0.0</td><td>50.0</td></tr><tr><td>&quot;01/02/2022&quot;</td><td>2022-02-01</td><td>0.0</td><td>100.0</td></tr><tr><td>&quot;03/02/2022&quot;</td><td>2022-02-01</td><td>78.0</td><td>0.0</td></tr><tr><td>&quot;13/01/2022&quot;</td><td>2022-01-11</td><td>22.49</td><td>0.0</td></tr><tr><td>&quot;11/01/2022&quot;</td><td>2022-01-09</td><td>3.32</td><td>0.0</td></tr><tr><td>&quot;11/01/2022&quot;</td><td>2022-01-08</td><td>30.0</td><td>0.0</td></tr><tr><td>&quot;06/01/2022&quot;</td><td>2022-01-06</td><td>2.0</td><td>0.0</td></tr><tr><td>&quot;05/01/2022&quot;</td><td>2022-01-03</td><td>10.9</td><td>0.0</td></tr><tr><td>&quot;05/01/2022&quot;</td><td>2022-01-03</td><td>12.86</td><td>0.0</td></tr></tbody></table></div>"
      ],
      "text/plain": [
       "shape: (96, 4)\n",
       "┌─────────────┬────────────┬─────────┬────────┐\n",
       "│ DATA VALUTA ┆ DATA OP    ┆ ENTRATE ┆ USCITE │\n",
       "│ ---         ┆ ---        ┆ ---     ┆ ---    │\n",
       "│ str         ┆ date       ┆ f64     ┆ f64    │\n",
       "╞═════════════╪════════════╪═════════╪════════╡\n",
       "│ 27/12/2022  ┆ 2022-12-22 ┆ 17.0    ┆ 0.0    │\n",
       "│ 21/12/2022  ┆ 2022-12-21 ┆ 0.0     ┆ 14.0   │\n",
       "│ 20/12/2022  ┆ 2022-12-20 ┆ 0.0     ┆ 247.82 │\n",
       "│ 23/12/2022  ┆ 2022-12-20 ┆ 14.0    ┆ 0.0    │\n",
       "│ …           ┆ …          ┆ …       ┆ …      │\n",
       "│ 11/01/2022  ┆ 2022-01-08 ┆ 30.0    ┆ 0.0    │\n",
       "│ 06/01/2022  ┆ 2022-01-06 ┆ 2.0     ┆ 0.0    │\n",
       "│ 05/01/2022  ┆ 2022-01-03 ┆ 10.9    ┆ 0.0    │\n",
       "│ 05/01/2022  ┆ 2022-01-03 ┆ 12.86   ┆ 0.0    │\n",
       "└─────────────┴────────────┴─────────┴────────┘"
      ]
     },
     "execution_count": 29,
     "metadata": {},
     "output_type": "execute_result"
    }
   ],
   "source": [
    "df.with_columns([\n",
    "    pl.col(\"DATA OP\").str.strptime(pl.Date, \"%d/%m/%Y\")\n",
    "])"
   ]
  },
  {
   "cell_type": "code",
   "execution_count": null,
   "metadata": {},
   "outputs": [],
   "source": []
  }
 ],
 "metadata": {
  "kernelspec": {
   "display_name": "balance-reporting-SH6q7x4m-py3.10",
   "language": "python",
   "name": "python3"
  },
  "language_info": {
   "codemirror_mode": {
    "name": "ipython",
    "version": 3
   },
   "file_extension": ".py",
   "mimetype": "text/x-python",
   "name": "python",
   "nbconvert_exporter": "python",
   "pygments_lexer": "ipython3",
   "version": "3.10.12"
  }
 },
 "nbformat": 4,
 "nbformat_minor": 2
}
